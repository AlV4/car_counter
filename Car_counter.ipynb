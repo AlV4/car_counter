{
  "nbformat": 4,
  "nbformat_minor": 0,
  "metadata": {
    "colab": {
      "name": "Car counter.ipynb",
      "provenance": [],
      "include_colab_link": true
    },
    "kernelspec": {
      "name": "python3",
      "display_name": "Python 3"
    },
    "language_info": {
      "name": "python"
    }
  },
  "cells": [
    {
      "cell_type": "markdown",
      "metadata": {
        "id": "view-in-github",
        "colab_type": "text"
      },
      "source": [
        "<a href=\"https://colab.research.google.com/github/AlV4/car_counter/blob/master/Car_counter.ipynb\" target=\"_parent\"><img src=\"https://colab.research.google.com/assets/colab-badge.svg\" alt=\"Open In Colab\"/></a>"
      ]
    },
    {
      "cell_type": "markdown",
      "metadata": {
        "id": "wyV-w6ebSJ51"
      },
      "source": [
        "## Установить нужные библиотеки"
      ]
    },
    {
      "cell_type": "code",
      "metadata": {
        "id": "XvlKqyK8STRa"
      },
      "source": [
        "!pip install cvlib\n",
        "!pip install 'opencv-python >= 4.4.0.40'"
      ],
      "execution_count": null,
      "outputs": []
    },
    {
      "cell_type": "markdown",
      "metadata": {
        "id": "ChRsihWxSVh-"
      },
      "source": [
        "## После установки рестартануть рантайм (будет предложено)"
      ]
    },
    {
      "cell_type": "markdown",
      "metadata": {
        "id": "m7yoSHy2SfVT"
      },
      "source": [
        "## Теперь можно запустить код, и загрузить одну или несколько картинок"
      ]
    },
    {
      "cell_type": "code",
      "metadata": {
        "id": "bbRRdvCuCDyw"
      },
      "source": [
        " \n",
        "from google.colab import files\n",
        "import cv2\n",
        "import matplotlib.pyplot as plt\n",
        "import cvlib as cv\n",
        "from cvlib.object_detection import draw_bbox\n",
        "import os.path\n",
        " \n",
        " \n",
        "def count_cars():\n",
        " \n",
        "    file = files.upload()\n",
        "    for name in file.keys():\n",
        "      im = cv2.imread(name)\n",
        "      bbox, label, conf = cv.detect_common_objects(im)\n",
        "      output_image = draw_bbox(im, bbox, label, conf)\n",
        "      print('Number of cars in the image [' + name + '] is ' + str(label.count('car')))\n",
        "      plt.imshow(output_image)\n",
        "      plt.show()\n",
        "      plt.imsave(name.replace('.', '_counted.'), output_image)\n",
        " \n",
        " \n",
        "if __name__ == '__main__':\n",
        "    count_cars()"
      ],
      "execution_count": null,
      "outputs": []
    },
    {
      "cell_type": "code",
      "metadata": {
        "id": "5-Px6QWPH3oZ"
      },
      "source": [
        ""
      ],
      "execution_count": null,
      "outputs": []
    }
  ]
}